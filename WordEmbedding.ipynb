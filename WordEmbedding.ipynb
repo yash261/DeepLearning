{
 "cells": [
  {
   "cell_type": "code",
   "execution_count": 19,
   "metadata": {},
   "outputs": [],
   "source": [
    "from tensorflow.keras.models import Sequential\n",
    "from tensorflow.keras.layers import Embedding\n",
    "from tensorflow.keras.preprocessing.text import one_hot\n",
    "from tensorflow.keras.preprocessing.sequence import pad_sequences"
   ]
  },
  {
   "cell_type": "code",
   "execution_count": 12,
   "metadata": {},
   "outputs": [],
   "source": [
    "sentences=[\"glass of water\",\"Would you like to take water\",\"I am a developer\",\"I want to be a millionare\"]"
   ]
  },
  {
   "cell_type": "code",
   "execution_count": 13,
   "metadata": {},
   "outputs": [
    {
     "data": {
      "text/plain": [
       "['glass of water',\n",
       " 'Would you like to take water',\n",
       " 'I am a developer',\n",
       " 'I want to be a millionare']"
      ]
     },
     "execution_count": 13,
     "metadata": {},
     "output_type": "execute_result"
    }
   ],
   "source": [
    "sentences"
   ]
  },
  {
   "cell_type": "code",
   "execution_count": 14,
   "metadata": {},
   "outputs": [],
   "source": [
    "# vocabulary size\n",
    "voc_size=10000"
   ]
  },
  {
   "cell_type": "code",
   "execution_count": 15,
   "metadata": {},
   "outputs": [],
   "source": [
    "sentences_one_hot=[ one_hot(i,voc_size) for i in sentences ]"
   ]
  },
  {
   "cell_type": "code",
   "execution_count": 16,
   "metadata": {},
   "outputs": [
    {
     "data": {
      "text/plain": [
       "[[7406, 6235, 6338],\n",
       " [2101, 1523, 481, 9698, 9210, 6338],\n",
       " [8687, 6789, 3915, 1938],\n",
       " [8687, 2304, 9698, 8595, 3915, 6138]]"
      ]
     },
     "execution_count": 16,
     "metadata": {},
     "output_type": "execute_result"
    }
   ],
   "source": [
    "sentences_one_hot"
   ]
  },
  {
   "cell_type": "code",
   "execution_count": 20,
   "metadata": {},
   "outputs": [],
   "source": [
    "embedded_docs=pad_sequences(sentences_one_hot,padding=\"pre\",maxlen=8)"
   ]
  },
  {
   "cell_type": "code",
   "execution_count": 21,
   "metadata": {},
   "outputs": [
    {
     "data": {
      "text/plain": [
       "array([[   0,    0,    0,    0,    0, 7406, 6235, 6338],\n",
       "       [   0,    0, 2101, 1523,  481, 9698, 9210, 6338],\n",
       "       [   0,    0,    0,    0, 8687, 6789, 3915, 1938],\n",
       "       [   0,    0, 8687, 2304, 9698, 8595, 3915, 6138]])"
      ]
     },
     "execution_count": 21,
     "metadata": {},
     "output_type": "execute_result"
    }
   ],
   "source": [
    "embedded_docs"
   ]
  },
  {
   "cell_type": "code",
   "execution_count": 22,
   "metadata": {},
   "outputs": [],
   "source": [
    "model=Sequential()"
   ]
  },
  {
   "cell_type": "code",
   "execution_count": 23,
   "metadata": {},
   "outputs": [],
   "source": [
    "model.add(Embedding(voc_size,10,input_length=8))"
   ]
  },
  {
   "cell_type": "code",
   "execution_count": 26,
   "metadata": {},
   "outputs": [],
   "source": [
    "model.compile(\"adam\",\"mse\")"
   ]
  },
  {
   "cell_type": "code",
   "execution_count": 28,
   "metadata": {},
   "outputs": [
    {
     "name": "stdout",
     "output_type": "stream",
     "text": [
      "Model: \"sequential\"\n",
      "_________________________________________________________________\n",
      "Layer (type)                 Output Shape              Param #   \n",
      "=================================================================\n",
      "embedding (Embedding)        (None, 8, 10)             100000    \n",
      "=================================================================\n",
      "Total params: 100,000\n",
      "Trainable params: 100,000\n",
      "Non-trainable params: 0\n",
      "_________________________________________________________________\n"
     ]
    }
   ],
   "source": [
    "model.summary()"
   ]
  },
  {
   "cell_type": "code",
   "execution_count": 30,
   "metadata": {},
   "outputs": [
    {
     "data": {
      "text/plain": [
       "array([[-0.03645059, -0.02800803,  0.00495084,  0.02096495, -0.04184031,\n",
       "        -0.00966131, -0.04300911, -0.01919055,  0.02743591,  0.01752353],\n",
       "       [-0.03645059, -0.02800803,  0.00495084,  0.02096495, -0.04184031,\n",
       "        -0.00966131, -0.04300911, -0.01919055,  0.02743591,  0.01752353],\n",
       "       [-0.03645059, -0.02800803,  0.00495084,  0.02096495, -0.04184031,\n",
       "        -0.00966131, -0.04300911, -0.01919055,  0.02743591,  0.01752353],\n",
       "       [-0.03645059, -0.02800803,  0.00495084,  0.02096495, -0.04184031,\n",
       "        -0.00966131, -0.04300911, -0.01919055,  0.02743591,  0.01752353],\n",
       "       [-0.03645059, -0.02800803,  0.00495084,  0.02096495, -0.04184031,\n",
       "        -0.00966131, -0.04300911, -0.01919055,  0.02743591,  0.01752353],\n",
       "       [-0.03140046, -0.03409813, -0.03060319, -0.01209433, -0.03205068,\n",
       "        -0.00228504,  0.00624543,  0.01535514, -0.02656653,  0.02622003],\n",
       "       [-0.01189543, -0.04704653, -0.01838267, -0.04209355, -0.01257889,\n",
       "         0.01535558, -0.02655818,  0.00551762,  0.02485473, -0.00945556],\n",
       "       [ 0.04361754, -0.02054367,  0.01979532,  0.02047786, -0.02011104,\n",
       "        -0.01711183, -0.00021233,  0.02333654,  0.03519276, -0.04041924]],\n",
       "      dtype=float32)"
      ]
     },
     "execution_count": 30,
     "metadata": {},
     "output_type": "execute_result"
    }
   ],
   "source": [
    "model.predict(embedded_docs)[0]"
   ]
  },
  {
   "cell_type": "code",
   "execution_count": null,
   "metadata": {},
   "outputs": [],
   "source": []
  }
 ],
 "metadata": {
  "kernelspec": {
   "display_name": "Python 3",
   "language": "python",
   "name": "python3"
  },
  "language_info": {
   "codemirror_mode": {
    "name": "ipython",
    "version": 3
   },
   "file_extension": ".py",
   "mimetype": "text/x-python",
   "name": "python",
   "nbconvert_exporter": "python",
   "pygments_lexer": "ipython3",
   "version": "3.8.5"
  }
 },
 "nbformat": 4,
 "nbformat_minor": 4
}
