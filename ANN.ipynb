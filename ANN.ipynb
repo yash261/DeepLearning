{
  "nbformat": 4,
  "nbformat_minor": 0,
  "metadata": {
    "colab": {
      "name": "Untitled4.ipynb",
      "provenance": [],
      "collapsed_sections": [],
      "authorship_tag": "ABX9TyPp1qBFgFCE29g/O6oK7Iab",
      "include_colab_link": true
    },
    "kernelspec": {
      "name": "python3",
      "display_name": "Python 3"
    }
  },
  "cells": [
    {
      "cell_type": "markdown",
      "metadata": {
        "id": "view-in-github",
        "colab_type": "text"
      },
      "source": [
        "<a href=\"https://colab.research.google.com/github/yash261/DeepLearning/blob/main/ANN.ipynb\" target=\"_parent\"><img src=\"https://colab.research.google.com/assets/colab-badge.svg\" alt=\"Open In Colab\"/></a>"
      ]
    },
    {
      "cell_type": "code",
      "metadata": {
        "id": "AmqgISeRDuTB"
      },
      "source": [
        "import numpy as np\r\n",
        "import pandas as pd\r\n",
        "from sklearn.preprocessing import StandardScaler\r\n",
        "from sklearn.model_selection import train_test_split\r\n",
        "import matplotlib.pyplot as plt\r\n",
        "import keras\r\n",
        "from keras.models import Sequential\r\n",
        "from keras.layers import LeakyReLU,ELU,PReLU,Dense,Dropout\r\n",
        "from sklearn.metrics import accuracy_score,confusion_matrix"
      ],
      "execution_count": 50,
      "outputs": []
    },
    {
      "cell_type": "code",
      "metadata": {
        "id": "5MefUspODwLU"
      },
      "source": [
        "data=pd.read_csv(\"https://raw.githubusercontent.com/krishnaik06/Complete-Deep-Learning/master/ANN/Churn_Modelling.csv\")\r\n",
        "X=data.iloc[:,3:13]\r\n",
        "Y=data.iloc[:,13]\r\n",
        "geo=pd.get_dummies(X[\"Geography\"],drop_first=True)\r\n",
        "gender=pd.get_dummies(X[\"Gender\"],drop_first=True)\r\n",
        "X.drop([\"Geography\",\"Gender\"],axis=1,inplace=True)\r\n",
        "X=pd.concat([X,geo,gender],axis=1)"
      ],
      "execution_count": 2,
      "outputs": []
    },
    {
      "cell_type": "code",
      "metadata": {
        "id": "Fc1sWQVbD4vn"
      },
      "source": [
        "train_x,test_x,train_y,test_y=train_test_split(X,Y,random_state=1,train_size=0.75)\r\n",
        "sc=StandardScaler()\r\n",
        "train_x=sc.fit_transform(train_x)\r\n",
        "test_x=sc.transform(test_x)"
      ],
      "execution_count": 3,
      "outputs": []
    },
    {
      "cell_type": "code",
      "metadata": {
        "id": "8j-nMUW1FrIW"
      },
      "source": [
        "classifier=Sequential()"
      ],
      "execution_count": 40,
      "outputs": []
    },
    {
      "cell_type": "code",
      "metadata": {
        "id": "6ZfeVw9fFt3m"
      },
      "source": [
        "classifier.add(Dense(units=6,activation=\"relu\",input_dim=11,kernel_initializer=\"he_uniform\"))\r\n",
        "classifier.add(Dense(units=6,activation=\"relu\",kernel_initializer=\"he_uniform\"))\r\n",
        "classifier.add(Dense(units=1,activation=\"sigmoid\",kernel_initializer=\"glorot_uniform\"))"
      ],
      "execution_count": 41,
      "outputs": []
    },
    {
      "cell_type": "code",
      "metadata": {
        "id": "15Sm8VnRzWe7"
      },
      "source": [
        "classifier.compile(optimizer=\"adam\",metrics=[\"accuracy\"],loss=\"binary_crossentropy\")"
      ],
      "execution_count": 42,
      "outputs": []
    },
    {
      "cell_type": "code",
      "metadata": {
        "colab": {
          "base_uri": "https://localhost:8080/"
        },
        "id": "N6N5ieTQylHl",
        "outputId": "c79f6d31-d23b-4153-9446-ec92c8cc4d6c"
      },
      "source": [
        "classifier.summary()"
      ],
      "execution_count": 43,
      "outputs": [
        {
          "output_type": "stream",
          "text": [
            "Model: \"sequential_2\"\n",
            "_________________________________________________________________\n",
            "Layer (type)                 Output Shape              Param #   \n",
            "=================================================================\n",
            "dense_25 (Dense)             (None, 6)                 72        \n",
            "_________________________________________________________________\n",
            "dense_26 (Dense)             (None, 6)                 42        \n",
            "_________________________________________________________________\n",
            "dense_27 (Dense)             (None, 1)                 7         \n",
            "=================================================================\n",
            "Total params: 121\n",
            "Trainable params: 121\n",
            "Non-trainable params: 0\n",
            "_________________________________________________________________\n"
          ],
          "name": "stdout"
        }
      ]
    },
    {
      "cell_type": "code",
      "metadata": {
        "colab": {
          "base_uri": "https://localhost:8080/"
        },
        "id": "tQ-tdt4DzpDV",
        "outputId": "9fab097f-fbe7-419b-a929-1d7b43093782"
      },
      "source": [
        "model=classifier.fit(train_x,train_y,validation_split=0.33,batch_size=10,epochs=100)"
      ],
      "execution_count": 44,
      "outputs": [
        {
          "output_type": "stream",
          "text": [
            "Epoch 1/100\n",
            "503/503 [==============================] - 2s 2ms/step - loss: 0.7727 - accuracy: 0.5117 - val_loss: 0.5105 - val_accuracy: 0.7977\n",
            "Epoch 2/100\n",
            "503/503 [==============================] - 1s 1ms/step - loss: 0.4840 - accuracy: 0.8088 - val_loss: 0.4651 - val_accuracy: 0.7993\n",
            "Epoch 3/100\n",
            "503/503 [==============================] - 1s 1ms/step - loss: 0.4642 - accuracy: 0.7965 - val_loss: 0.4447 - val_accuracy: 0.7997\n",
            "Epoch 4/100\n",
            "503/503 [==============================] - 1s 1ms/step - loss: 0.4382 - accuracy: 0.8034 - val_loss: 0.4321 - val_accuracy: 0.8045\n",
            "Epoch 5/100\n",
            "503/503 [==============================] - 1s 1ms/step - loss: 0.4329 - accuracy: 0.8152 - val_loss: 0.4267 - val_accuracy: 0.8126\n",
            "Epoch 6/100\n",
            "503/503 [==============================] - 1s 1ms/step - loss: 0.4239 - accuracy: 0.8299 - val_loss: 0.4217 - val_accuracy: 0.8183\n",
            "Epoch 7/100\n",
            "503/503 [==============================] - 1s 1ms/step - loss: 0.4217 - accuracy: 0.8272 - val_loss: 0.4198 - val_accuracy: 0.8174\n",
            "Epoch 8/100\n",
            "503/503 [==============================] - 1s 1ms/step - loss: 0.4014 - accuracy: 0.8384 - val_loss: 0.4180 - val_accuracy: 0.8203\n",
            "Epoch 9/100\n",
            "503/503 [==============================] - 1s 1ms/step - loss: 0.4083 - accuracy: 0.8320 - val_loss: 0.4167 - val_accuracy: 0.8219\n",
            "Epoch 10/100\n",
            "503/503 [==============================] - 1s 1ms/step - loss: 0.4048 - accuracy: 0.8336 - val_loss: 0.4164 - val_accuracy: 0.8243\n",
            "Epoch 11/100\n",
            "503/503 [==============================] - 1s 1ms/step - loss: 0.3989 - accuracy: 0.8395 - val_loss: 0.4148 - val_accuracy: 0.8239\n",
            "Epoch 12/100\n",
            "503/503 [==============================] - 1s 1ms/step - loss: 0.4053 - accuracy: 0.8357 - val_loss: 0.4138 - val_accuracy: 0.8243\n",
            "Epoch 13/100\n",
            "503/503 [==============================] - 1s 1ms/step - loss: 0.4077 - accuracy: 0.8401 - val_loss: 0.4112 - val_accuracy: 0.8271\n",
            "Epoch 14/100\n",
            "503/503 [==============================] - 1s 1ms/step - loss: 0.3869 - accuracy: 0.8487 - val_loss: 0.4079 - val_accuracy: 0.8284\n",
            "Epoch 15/100\n",
            "503/503 [==============================] - 1s 1ms/step - loss: 0.3814 - accuracy: 0.8473 - val_loss: 0.4064 - val_accuracy: 0.8304\n",
            "Epoch 16/100\n",
            "503/503 [==============================] - 1s 1ms/step - loss: 0.3915 - accuracy: 0.8428 - val_loss: 0.4023 - val_accuracy: 0.8304\n",
            "Epoch 17/100\n",
            "503/503 [==============================] - 1s 1ms/step - loss: 0.3863 - accuracy: 0.8424 - val_loss: 0.3990 - val_accuracy: 0.8320\n",
            "Epoch 18/100\n",
            "503/503 [==============================] - 1s 1ms/step - loss: 0.3930 - accuracy: 0.8399 - val_loss: 0.3962 - val_accuracy: 0.8352\n",
            "Epoch 19/100\n",
            "503/503 [==============================] - 1s 1ms/step - loss: 0.3753 - accuracy: 0.8501 - val_loss: 0.3904 - val_accuracy: 0.8356\n",
            "Epoch 20/100\n",
            "503/503 [==============================] - 1s 1ms/step - loss: 0.3885 - accuracy: 0.8472 - val_loss: 0.3857 - val_accuracy: 0.8356\n",
            "Epoch 21/100\n",
            "503/503 [==============================] - 1s 1ms/step - loss: 0.3567 - accuracy: 0.8627 - val_loss: 0.3768 - val_accuracy: 0.8397\n",
            "Epoch 22/100\n",
            "503/503 [==============================] - 1s 1ms/step - loss: 0.3676 - accuracy: 0.8568 - val_loss: 0.3706 - val_accuracy: 0.8433\n",
            "Epoch 23/100\n",
            "503/503 [==============================] - 1s 1ms/step - loss: 0.3666 - accuracy: 0.8542 - val_loss: 0.3651 - val_accuracy: 0.8445\n",
            "Epoch 24/100\n",
            "503/503 [==============================] - 1s 1ms/step - loss: 0.3695 - accuracy: 0.8467 - val_loss: 0.3587 - val_accuracy: 0.8494\n",
            "Epoch 25/100\n",
            "503/503 [==============================] - 1s 1ms/step - loss: 0.3578 - accuracy: 0.8486 - val_loss: 0.3558 - val_accuracy: 0.8518\n",
            "Epoch 26/100\n",
            "503/503 [==============================] - 1s 1ms/step - loss: 0.3441 - accuracy: 0.8602 - val_loss: 0.3534 - val_accuracy: 0.8538\n",
            "Epoch 27/100\n",
            "503/503 [==============================] - 1s 1ms/step - loss: 0.3546 - accuracy: 0.8536 - val_loss: 0.3532 - val_accuracy: 0.8534\n",
            "Epoch 28/100\n",
            "503/503 [==============================] - 1s 1ms/step - loss: 0.3532 - accuracy: 0.8511 - val_loss: 0.3509 - val_accuracy: 0.8542\n",
            "Epoch 29/100\n",
            "503/503 [==============================] - 1s 1ms/step - loss: 0.3432 - accuracy: 0.8611 - val_loss: 0.3497 - val_accuracy: 0.8570\n",
            "Epoch 30/100\n",
            "503/503 [==============================] - 1s 1ms/step - loss: 0.3542 - accuracy: 0.8604 - val_loss: 0.3481 - val_accuracy: 0.8534\n",
            "Epoch 31/100\n",
            "503/503 [==============================] - 1s 2ms/step - loss: 0.3289 - accuracy: 0.8678 - val_loss: 0.3484 - val_accuracy: 0.8542\n",
            "Epoch 32/100\n",
            "503/503 [==============================] - 1s 2ms/step - loss: 0.3548 - accuracy: 0.8590 - val_loss: 0.3480 - val_accuracy: 0.8562\n",
            "Epoch 33/100\n",
            "503/503 [==============================] - 1s 2ms/step - loss: 0.3489 - accuracy: 0.8585 - val_loss: 0.3471 - val_accuracy: 0.8562\n",
            "Epoch 34/100\n",
            "503/503 [==============================] - 1s 1ms/step - loss: 0.3545 - accuracy: 0.8571 - val_loss: 0.3475 - val_accuracy: 0.8586\n",
            "Epoch 35/100\n",
            "503/503 [==============================] - 1s 2ms/step - loss: 0.3455 - accuracy: 0.8638 - val_loss: 0.3486 - val_accuracy: 0.8574\n",
            "Epoch 36/100\n",
            "503/503 [==============================] - 1s 2ms/step - loss: 0.3371 - accuracy: 0.8625 - val_loss: 0.3459 - val_accuracy: 0.8558\n",
            "Epoch 37/100\n",
            "503/503 [==============================] - 1s 2ms/step - loss: 0.3389 - accuracy: 0.8626 - val_loss: 0.3471 - val_accuracy: 0.8566\n",
            "Epoch 38/100\n",
            "503/503 [==============================] - 1s 1ms/step - loss: 0.3290 - accuracy: 0.8735 - val_loss: 0.3504 - val_accuracy: 0.8530\n",
            "Epoch 39/100\n",
            "503/503 [==============================] - 1s 1ms/step - loss: 0.3474 - accuracy: 0.8558 - val_loss: 0.3466 - val_accuracy: 0.8558\n",
            "Epoch 40/100\n",
            "503/503 [==============================] - 1s 1ms/step - loss: 0.3324 - accuracy: 0.8675 - val_loss: 0.3467 - val_accuracy: 0.8526\n",
            "Epoch 41/100\n",
            "503/503 [==============================] - 1s 1ms/step - loss: 0.3314 - accuracy: 0.8701 - val_loss: 0.3474 - val_accuracy: 0.8546\n",
            "Epoch 42/100\n",
            "503/503 [==============================] - 1s 1ms/step - loss: 0.3516 - accuracy: 0.8593 - val_loss: 0.3478 - val_accuracy: 0.8542\n",
            "Epoch 43/100\n",
            "503/503 [==============================] - 1s 1ms/step - loss: 0.3386 - accuracy: 0.8650 - val_loss: 0.3454 - val_accuracy: 0.8562\n",
            "Epoch 44/100\n",
            "503/503 [==============================] - 1s 1ms/step - loss: 0.3441 - accuracy: 0.8585 - val_loss: 0.3455 - val_accuracy: 0.8558\n",
            "Epoch 45/100\n",
            "503/503 [==============================] - 1s 1ms/step - loss: 0.3264 - accuracy: 0.8702 - val_loss: 0.3468 - val_accuracy: 0.8534\n",
            "Epoch 46/100\n",
            "503/503 [==============================] - 1s 1ms/step - loss: 0.3495 - accuracy: 0.8593 - val_loss: 0.3469 - val_accuracy: 0.8538\n",
            "Epoch 47/100\n",
            "503/503 [==============================] - 1s 1ms/step - loss: 0.3486 - accuracy: 0.8580 - val_loss: 0.3447 - val_accuracy: 0.8550\n",
            "Epoch 48/100\n",
            "503/503 [==============================] - 1s 1ms/step - loss: 0.3455 - accuracy: 0.8642 - val_loss: 0.3444 - val_accuracy: 0.8542\n",
            "Epoch 49/100\n",
            "503/503 [==============================] - 1s 1ms/step - loss: 0.3510 - accuracy: 0.8599 - val_loss: 0.3445 - val_accuracy: 0.8558\n",
            "Epoch 50/100\n",
            "503/503 [==============================] - 1s 1ms/step - loss: 0.3405 - accuracy: 0.8615 - val_loss: 0.3452 - val_accuracy: 0.8566\n",
            "Epoch 51/100\n",
            "503/503 [==============================] - 1s 1ms/step - loss: 0.3431 - accuracy: 0.8592 - val_loss: 0.3440 - val_accuracy: 0.8582\n",
            "Epoch 52/100\n",
            "503/503 [==============================] - 1s 1ms/step - loss: 0.3407 - accuracy: 0.8617 - val_loss: 0.3450 - val_accuracy: 0.8546\n",
            "Epoch 53/100\n",
            "503/503 [==============================] - 1s 1ms/step - loss: 0.3344 - accuracy: 0.8617 - val_loss: 0.3441 - val_accuracy: 0.8546\n",
            "Epoch 54/100\n",
            "503/503 [==============================] - 1s 1ms/step - loss: 0.3331 - accuracy: 0.8682 - val_loss: 0.3466 - val_accuracy: 0.8542\n",
            "Epoch 55/100\n",
            "503/503 [==============================] - 1s 1ms/step - loss: 0.3356 - accuracy: 0.8609 - val_loss: 0.3444 - val_accuracy: 0.8578\n",
            "Epoch 56/100\n",
            "503/503 [==============================] - 1s 1ms/step - loss: 0.3368 - accuracy: 0.8658 - val_loss: 0.3444 - val_accuracy: 0.8570\n",
            "Epoch 57/100\n",
            "503/503 [==============================] - 1s 1ms/step - loss: 0.3317 - accuracy: 0.8699 - val_loss: 0.3436 - val_accuracy: 0.8558\n",
            "Epoch 58/100\n",
            "503/503 [==============================] - 1s 1ms/step - loss: 0.3334 - accuracy: 0.8689 - val_loss: 0.3438 - val_accuracy: 0.8586\n",
            "Epoch 59/100\n",
            "503/503 [==============================] - 1s 1ms/step - loss: 0.3461 - accuracy: 0.8612 - val_loss: 0.3453 - val_accuracy: 0.8550\n",
            "Epoch 60/100\n",
            "503/503 [==============================] - 1s 1ms/step - loss: 0.3435 - accuracy: 0.8589 - val_loss: 0.3450 - val_accuracy: 0.8546\n",
            "Epoch 61/100\n",
            "503/503 [==============================] - 1s 1ms/step - loss: 0.3400 - accuracy: 0.8585 - val_loss: 0.3454 - val_accuracy: 0.8534\n",
            "Epoch 62/100\n",
            "503/503 [==============================] - 1s 1ms/step - loss: 0.3349 - accuracy: 0.8643 - val_loss: 0.3437 - val_accuracy: 0.8574\n",
            "Epoch 63/100\n",
            "503/503 [==============================] - 1s 1ms/step - loss: 0.3374 - accuracy: 0.8650 - val_loss: 0.3436 - val_accuracy: 0.8570\n",
            "Epoch 64/100\n",
            "503/503 [==============================] - 1s 1ms/step - loss: 0.3301 - accuracy: 0.8691 - val_loss: 0.3446 - val_accuracy: 0.8586\n",
            "Epoch 65/100\n",
            "503/503 [==============================] - 1s 1ms/step - loss: 0.3251 - accuracy: 0.8665 - val_loss: 0.3435 - val_accuracy: 0.8582\n",
            "Epoch 66/100\n",
            "503/503 [==============================] - 1s 1ms/step - loss: 0.3471 - accuracy: 0.8564 - val_loss: 0.3433 - val_accuracy: 0.8574\n",
            "Epoch 67/100\n",
            "503/503 [==============================] - 1s 1ms/step - loss: 0.3323 - accuracy: 0.8661 - val_loss: 0.3430 - val_accuracy: 0.8570\n",
            "Epoch 68/100\n",
            "503/503 [==============================] - 1s 1ms/step - loss: 0.3384 - accuracy: 0.8564 - val_loss: 0.3431 - val_accuracy: 0.8578\n",
            "Epoch 69/100\n",
            "503/503 [==============================] - 1s 1ms/step - loss: 0.3479 - accuracy: 0.8584 - val_loss: 0.3426 - val_accuracy: 0.8574\n",
            "Epoch 70/100\n",
            "503/503 [==============================] - 1s 1ms/step - loss: 0.3202 - accuracy: 0.8719 - val_loss: 0.3441 - val_accuracy: 0.8562\n",
            "Epoch 71/100\n",
            "503/503 [==============================] - 1s 1ms/step - loss: 0.3390 - accuracy: 0.8595 - val_loss: 0.3440 - val_accuracy: 0.8570\n",
            "Epoch 72/100\n",
            "503/503 [==============================] - 1s 1ms/step - loss: 0.3340 - accuracy: 0.8618 - val_loss: 0.3442 - val_accuracy: 0.8542\n",
            "Epoch 73/100\n",
            "503/503 [==============================] - 1s 1ms/step - loss: 0.3440 - accuracy: 0.8609 - val_loss: 0.3428 - val_accuracy: 0.8574\n",
            "Epoch 74/100\n",
            "503/503 [==============================] - 1s 1ms/step - loss: 0.3307 - accuracy: 0.8668 - val_loss: 0.3424 - val_accuracy: 0.8558\n",
            "Epoch 75/100\n",
            "503/503 [==============================] - 1s 1ms/step - loss: 0.3360 - accuracy: 0.8617 - val_loss: 0.3408 - val_accuracy: 0.8574\n",
            "Epoch 76/100\n",
            "503/503 [==============================] - 1s 1ms/step - loss: 0.3272 - accuracy: 0.8661 - val_loss: 0.3424 - val_accuracy: 0.8554\n",
            "Epoch 77/100\n",
            "503/503 [==============================] - 1s 1ms/step - loss: 0.3425 - accuracy: 0.8621 - val_loss: 0.3418 - val_accuracy: 0.8554\n",
            "Epoch 78/100\n",
            "503/503 [==============================] - 1s 1ms/step - loss: 0.3456 - accuracy: 0.8579 - val_loss: 0.3428 - val_accuracy: 0.8566\n",
            "Epoch 79/100\n",
            "503/503 [==============================] - 1s 1ms/step - loss: 0.3452 - accuracy: 0.8566 - val_loss: 0.3415 - val_accuracy: 0.8554\n",
            "Epoch 80/100\n",
            "503/503 [==============================] - 1s 1ms/step - loss: 0.3226 - accuracy: 0.8677 - val_loss: 0.3409 - val_accuracy: 0.8595\n",
            "Epoch 81/100\n",
            "503/503 [==============================] - 1s 1ms/step - loss: 0.3327 - accuracy: 0.8682 - val_loss: 0.3416 - val_accuracy: 0.8574\n",
            "Epoch 82/100\n",
            "503/503 [==============================] - 1s 1ms/step - loss: 0.3447 - accuracy: 0.8594 - val_loss: 0.3409 - val_accuracy: 0.8595\n",
            "Epoch 83/100\n",
            "503/503 [==============================] - 1s 1ms/step - loss: 0.3379 - accuracy: 0.8628 - val_loss: 0.3422 - val_accuracy: 0.8578\n",
            "Epoch 84/100\n",
            "503/503 [==============================] - 1s 1ms/step - loss: 0.3400 - accuracy: 0.8583 - val_loss: 0.3416 - val_accuracy: 0.8566\n",
            "Epoch 85/100\n",
            "503/503 [==============================] - 1s 1ms/step - loss: 0.3339 - accuracy: 0.8664 - val_loss: 0.3401 - val_accuracy: 0.8595\n",
            "Epoch 86/100\n",
            "503/503 [==============================] - 1s 1ms/step - loss: 0.3372 - accuracy: 0.8619 - val_loss: 0.3411 - val_accuracy: 0.8574\n",
            "Epoch 87/100\n",
            "503/503 [==============================] - 1s 2ms/step - loss: 0.3298 - accuracy: 0.8646 - val_loss: 0.3416 - val_accuracy: 0.8582\n",
            "Epoch 88/100\n",
            "503/503 [==============================] - 1s 1ms/step - loss: 0.3424 - accuracy: 0.8613 - val_loss: 0.3413 - val_accuracy: 0.8590\n",
            "Epoch 89/100\n",
            "503/503 [==============================] - 1s 1ms/step - loss: 0.3435 - accuracy: 0.8578 - val_loss: 0.3410 - val_accuracy: 0.8586\n",
            "Epoch 90/100\n",
            "503/503 [==============================] - 1s 1ms/step - loss: 0.3521 - accuracy: 0.8530 - val_loss: 0.3424 - val_accuracy: 0.8590\n",
            "Epoch 91/100\n",
            "503/503 [==============================] - 1s 1ms/step - loss: 0.3223 - accuracy: 0.8718 - val_loss: 0.3414 - val_accuracy: 0.8578\n",
            "Epoch 92/100\n",
            "503/503 [==============================] - 1s 1ms/step - loss: 0.3308 - accuracy: 0.8618 - val_loss: 0.3396 - val_accuracy: 0.8603\n",
            "Epoch 93/100\n",
            "503/503 [==============================] - 1s 1ms/step - loss: 0.3335 - accuracy: 0.8603 - val_loss: 0.3406 - val_accuracy: 0.8582\n",
            "Epoch 94/100\n",
            "503/503 [==============================] - 1s 1ms/step - loss: 0.3391 - accuracy: 0.8609 - val_loss: 0.3436 - val_accuracy: 0.8586\n",
            "Epoch 95/100\n",
            "503/503 [==============================] - 1s 1ms/step - loss: 0.3390 - accuracy: 0.8571 - val_loss: 0.3417 - val_accuracy: 0.8586\n",
            "Epoch 96/100\n",
            "503/503 [==============================] - 1s 1ms/step - loss: 0.3416 - accuracy: 0.8583 - val_loss: 0.3403 - val_accuracy: 0.8590\n",
            "Epoch 97/100\n",
            "503/503 [==============================] - 1s 1ms/step - loss: 0.3601 - accuracy: 0.8524 - val_loss: 0.3403 - val_accuracy: 0.8574\n",
            "Epoch 98/100\n",
            "503/503 [==============================] - 1s 1ms/step - loss: 0.3333 - accuracy: 0.8600 - val_loss: 0.3416 - val_accuracy: 0.8570\n",
            "Epoch 99/100\n",
            "503/503 [==============================] - 1s 1ms/step - loss: 0.3283 - accuracy: 0.8661 - val_loss: 0.3401 - val_accuracy: 0.8578\n",
            "Epoch 100/100\n",
            "503/503 [==============================] - 1s 1ms/step - loss: 0.3251 - accuracy: 0.8634 - val_loss: 0.3401 - val_accuracy: 0.8615\n"
          ],
          "name": "stdout"
        }
      ]
    },
    {
      "cell_type": "code",
      "metadata": {
        "colab": {
          "base_uri": "https://localhost:8080/"
        },
        "id": "Onv5uP1X1XCD",
        "outputId": "71d5b2fb-e5aa-48be-f867-58f30c831617"
      },
      "source": [
        "predict=classifier.predict(test_x)\r\n",
        "predict=predict>0.5\r\n",
        "predict"
      ],
      "execution_count": 47,
      "outputs": [
        {
          "output_type": "execute_result",
          "data": {
            "text/plain": [
              "array([[False],\n",
              "       [False],\n",
              "       [False],\n",
              "       ...,\n",
              "       [ True],\n",
              "       [False],\n",
              "       [False]])"
            ]
          },
          "metadata": {
            "tags": []
          },
          "execution_count": 47
        }
      ]
    },
    {
      "cell_type": "code",
      "metadata": {
        "colab": {
          "base_uri": "https://localhost:8080/"
        },
        "id": "YgFsDHhi5UZv",
        "outputId": "db73e7bd-fb78-4038-822d-34f06dfa0242"
      },
      "source": [
        "accuracy_score(test_y,predict)"
      ],
      "execution_count": 49,
      "outputs": [
        {
          "output_type": "execute_result",
          "data": {
            "text/plain": [
              "0.8668"
            ]
          },
          "metadata": {
            "tags": []
          },
          "execution_count": 49
        }
      ]
    },
    {
      "cell_type": "code",
      "metadata": {
        "colab": {
          "base_uri": "https://localhost:8080/"
        },
        "id": "0cwvmvAt5r3t",
        "outputId": "f7a643b0-7f38-4e5b-a44c-d0af1e4e2cb8"
      },
      "source": [
        "confusion_matrix(test_y,predict)"
      ],
      "execution_count": 51,
      "outputs": [
        {
          "output_type": "execute_result",
          "data": {
            "text/plain": [
              "array([[1913,   67],\n",
              "       [ 266,  254]])"
            ]
          },
          "metadata": {
            "tags": []
          },
          "execution_count": 51
        }
      ]
    },
    {
      "cell_type": "code",
      "metadata": {
        "id": "rhDiyqmT6wrj"
      },
      "source": [
        ""
      ],
      "execution_count": null,
      "outputs": []
    }
  ]
}